{
 "cells": [
  {
   "cell_type": "markdown",
   "id": "584afc52",
   "metadata": {},
   "source": [
    "This file uses a k-mer approach to create a baseline for eDNA classification.\n",
    "\n",
    "This file was taken from Rose Gurung (rose.gurung@maine.edu). No major changes have been made other than saving the numpy arrays and the model such that they can be loaded in and time can be saved by eliminating the need to recreate them."
   ]
  },
  {
   "cell_type": "code",
   "execution_count": 2,
   "id": "proud-center",
   "metadata": {
    "ExecuteTime": {
     "end_time": "2023-02-07T18:36:16.138348Z",
     "start_time": "2023-02-07T18:36:01.583692Z"
    }
   },
   "outputs": [],
   "source": [
    "import sys\n",
    "import numpy as np\n",
    "import pandas as pd\n",
    "from itertools import product\n",
    "from sklearn.feature_extraction.text import CountVectorizer\n",
    "from sklearn.naive_bayes import MultinomialNB\n",
    "from joblib import dump, load\n",
    "from sklearn.preprocessing import LabelEncoder"
   ]
  },
  {
   "cell_type": "code",
   "execution_count": 143,
   "metadata": {},
   "outputs": [],
   "source": [
    "np.set_printoptions(threshold=sys.maxsize)"
   ]
  },
  {
   "cell_type": "code",
   "execution_count": 3,
   "id": "continuing-public",
   "metadata": {
    "ExecuteTime": {
     "end_time": "2023-02-07T18:36:34.362423Z",
     "start_time": "2023-02-07T18:36:32.551557Z"
    }
   },
   "outputs": [
    {
     "data": {
      "text/html": [
       "<div>\n",
       "<style scoped>\n",
       "    .dataframe tbody tr th:only-of-type {\n",
       "        vertical-align: middle;\n",
       "    }\n",
       "\n",
       "    .dataframe tbody tr th {\n",
       "        vertical-align: top;\n",
       "    }\n",
       "\n",
       "    .dataframe thead th {\n",
       "        text-align: right;\n",
       "    }\n",
       "</style>\n",
       "<table border=\"1\" class=\"dataframe\">\n",
       "  <thead>\n",
       "    <tr style=\"text-align: right;\">\n",
       "      <th></th>\n",
       "      <th>Unnamed: 0</th>\n",
       "      <th>seq</th>\n",
       "      <th>species</th>\n",
       "      <th>genus</th>\n",
       "      <th>family</th>\n",
       "      <th>order</th>\n",
       "      <th>order_cat</th>\n",
       "      <th>family_cat</th>\n",
       "      <th>genus_cat</th>\n",
       "      <th>species_cat</th>\n",
       "    </tr>\n",
       "  </thead>\n",
       "  <tbody>\n",
       "    <tr>\n",
       "      <th>0</th>\n",
       "      <td>396</td>\n",
       "      <td>cccccactatagttaaacgtctattatttttatacacctaatattc...</td>\n",
       "      <td>Crenicichla saxatilis</td>\n",
       "      <td>Crenicichla</td>\n",
       "      <td>Cichlidae</td>\n",
       "      <td>Perciformes</td>\n",
       "      <td>12</td>\n",
       "      <td>16</td>\n",
       "      <td>48</td>\n",
       "      <td>44</td>\n",
       "    </tr>\n",
       "    <tr>\n",
       "      <th>1</th>\n",
       "      <td>389</td>\n",
       "      <td>cccccccaaataaacatctattacttttatacacctaaattcccat...</td>\n",
       "      <td>Crenicichla saxatilis</td>\n",
       "      <td>Crenicichla</td>\n",
       "      <td>Cichlidae</td>\n",
       "      <td>Perciformes</td>\n",
       "      <td>12</td>\n",
       "      <td>16</td>\n",
       "      <td>48</td>\n",
       "      <td>44</td>\n",
       "    </tr>\n",
       "    <tr>\n",
       "      <th>2</th>\n",
       "      <td>391</td>\n",
       "      <td>ccccccactaaataaacatctattacttttatacacctaaattccc...</td>\n",
       "      <td>Crenicichla saxatilis</td>\n",
       "      <td>Crenicichla</td>\n",
       "      <td>Cichlidae</td>\n",
       "      <td>Perciformes</td>\n",
       "      <td>12</td>\n",
       "      <td>16</td>\n",
       "      <td>48</td>\n",
       "      <td>44</td>\n",
       "    </tr>\n",
       "    <tr>\n",
       "      <th>3</th>\n",
       "      <td>395</td>\n",
       "      <td>ccccccccactaaataaacatctatacttttatacacctaaattcc...</td>\n",
       "      <td>Crenicichla saxatilis</td>\n",
       "      <td>Crenicichla</td>\n",
       "      <td>Cichlidae</td>\n",
       "      <td>Perciformes</td>\n",
       "      <td>12</td>\n",
       "      <td>16</td>\n",
       "      <td>48</td>\n",
       "      <td>44</td>\n",
       "    </tr>\n",
       "    <tr>\n",
       "      <th>4</th>\n",
       "      <td>393</td>\n",
       "      <td>cccccacataattaatacatctattacttttatacacctaaattcc...</td>\n",
       "      <td>Crenicichla saxatilis</td>\n",
       "      <td>Crenicichla</td>\n",
       "      <td>Cichlidae</td>\n",
       "      <td>Perciformes</td>\n",
       "      <td>12</td>\n",
       "      <td>16</td>\n",
       "      <td>48</td>\n",
       "      <td>44</td>\n",
       "    </tr>\n",
       "  </tbody>\n",
       "</table>\n",
       "</div>"
      ],
      "text/plain": [
       "   Unnamed: 0                                                seq  \\\n",
       "0         396  cccccactatagttaaacgtctattatttttatacacctaatattc...   \n",
       "1         389  cccccccaaataaacatctattacttttatacacctaaattcccat...   \n",
       "2         391  ccccccactaaataaacatctattacttttatacacctaaattccc...   \n",
       "3         395  ccccccccactaaataaacatctatacttttatacacctaaattcc...   \n",
       "4         393  cccccacataattaatacatctattacttttatacacctaaattcc...   \n",
       "\n",
       "                 species        genus     family        order  order_cat  \\\n",
       "0  Crenicichla saxatilis  Crenicichla  Cichlidae  Perciformes         12   \n",
       "1  Crenicichla saxatilis  Crenicichla  Cichlidae  Perciformes         12   \n",
       "2  Crenicichla saxatilis  Crenicichla  Cichlidae  Perciformes         12   \n",
       "3  Crenicichla saxatilis  Crenicichla  Cichlidae  Perciformes         12   \n",
       "4  Crenicichla saxatilis  Crenicichla  Cichlidae  Perciformes         12   \n",
       "\n",
       "   family_cat  genus_cat  species_cat  \n",
       "0          16         48           44  \n",
       "1          16         48           44  \n",
       "2          16         48           44  \n",
       "3          16         48           44  \n",
       "4          16         48           44  "
      ]
     },
     "execution_count": 3,
     "metadata": {},
     "output_type": "execute_result"
    }
   ],
   "source": [
    "# load the train data\n",
    "train_df = pd.read_csv('./datasets/train.csv')\n",
    "train_df.head()"
   ]
  },
  {
   "cell_type": "code",
   "execution_count": 145,
   "id": "worldwide-promotion",
   "metadata": {
    "ExecuteTime": {
     "end_time": "2023-02-07T18:36:47.565421Z",
     "start_time": "2023-02-07T18:36:47.540435Z"
    }
   },
   "outputs": [
    {
     "data": {
      "text/plain": [
       "(936, 10)"
      ]
     },
     "execution_count": 145,
     "metadata": {},
     "output_type": "execute_result"
    }
   ],
   "source": [
    "train_df.shape"
   ]
  },
  {
   "cell_type": "code",
   "execution_count": 146,
   "id": "ignored-humanitarian",
   "metadata": {
    "ExecuteTime": {
     "end_time": "2023-02-07T18:37:43.537429Z",
     "start_time": "2023-02-07T18:37:43.384517Z"
    }
   },
   "outputs": [
    {
     "data": {
      "text/html": [
       "<div>\n",
       "<style scoped>\n",
       "    .dataframe tbody tr th:only-of-type {\n",
       "        vertical-align: middle;\n",
       "    }\n",
       "\n",
       "    .dataframe tbody tr th {\n",
       "        vertical-align: top;\n",
       "    }\n",
       "\n",
       "    .dataframe thead th {\n",
       "        text-align: right;\n",
       "    }\n",
       "</style>\n",
       "<table border=\"1\" class=\"dataframe\">\n",
       "  <thead>\n",
       "    <tr style=\"text-align: right;\">\n",
       "      <th></th>\n",
       "      <th>Unnamed: 0</th>\n",
       "      <th>seq</th>\n",
       "      <th>species</th>\n",
       "      <th>genus</th>\n",
       "      <th>family</th>\n",
       "      <th>order</th>\n",
       "      <th>order_cat</th>\n",
       "      <th>family_cat</th>\n",
       "      <th>genus_cat</th>\n",
       "      <th>species_cat</th>\n",
       "    </tr>\n",
       "  </thead>\n",
       "  <tbody>\n",
       "    <tr>\n",
       "      <th>0</th>\n",
       "      <td>390</td>\n",
       "      <td>cccccccccccccaaataaacatctattacttttatacacctaaat...</td>\n",
       "      <td>Crenicichla saxatilis</td>\n",
       "      <td>Crenicichla</td>\n",
       "      <td>Cichlidae</td>\n",
       "      <td>Perciformes</td>\n",
       "      <td>12</td>\n",
       "      <td>16</td>\n",
       "      <td>48</td>\n",
       "      <td>44</td>\n",
       "    </tr>\n",
       "    <tr>\n",
       "      <th>1</th>\n",
       "      <td>394</td>\n",
       "      <td>cccccactatagttaaacgtctatatttttatacacctaatattcc...</td>\n",
       "      <td>Crenicichla saxatilis</td>\n",
       "      <td>Crenicichla</td>\n",
       "      <td>Cichlidae</td>\n",
       "      <td>Perciformes</td>\n",
       "      <td>12</td>\n",
       "      <td>16</td>\n",
       "      <td>48</td>\n",
       "      <td>44</td>\n",
       "    </tr>\n",
       "    <tr>\n",
       "      <th>2</th>\n",
       "      <td>384</td>\n",
       "      <td>ccccccccactataataaacatctataattttatacacctaaattc...</td>\n",
       "      <td>Crenicichla albopunctata</td>\n",
       "      <td>Crenicichla</td>\n",
       "      <td>Cichlidae</td>\n",
       "      <td>Perciformes</td>\n",
       "      <td>12</td>\n",
       "      <td>16</td>\n",
       "      <td>48</td>\n",
       "      <td>41</td>\n",
       "    </tr>\n",
       "    <tr>\n",
       "      <th>3</th>\n",
       "      <td>431</td>\n",
       "      <td>ccccccccactataataaacatctattaattttatacacctaaact...</td>\n",
       "      <td>Crenicichla albopunctata</td>\n",
       "      <td>Crenicichla</td>\n",
       "      <td>Cichlidae</td>\n",
       "      <td>Perciformes</td>\n",
       "      <td>12</td>\n",
       "      <td>16</td>\n",
       "      <td>48</td>\n",
       "      <td>41</td>\n",
       "    </tr>\n",
       "    <tr>\n",
       "      <th>4</th>\n",
       "      <td>348</td>\n",
       "      <td>cccctctcacaaccacaaaagctatataacacaacctcttacacca...</td>\n",
       "      <td>Eigenmannia virescens</td>\n",
       "      <td>Eigenmannia</td>\n",
       "      <td>Sternopygidae</td>\n",
       "      <td>Gymnotiformes</td>\n",
       "      <td>7</td>\n",
       "      <td>50</td>\n",
       "      <td>60</td>\n",
       "      <td>52</td>\n",
       "    </tr>\n",
       "  </tbody>\n",
       "</table>\n",
       "</div>"
      ],
      "text/plain": [
       "   Unnamed: 0                                                seq  \\\n",
       "0         390  cccccccccccccaaataaacatctattacttttatacacctaaat...   \n",
       "1         394  cccccactatagttaaacgtctatatttttatacacctaatattcc...   \n",
       "2         384  ccccccccactataataaacatctataattttatacacctaaattc...   \n",
       "3         431  ccccccccactataataaacatctattaattttatacacctaaact...   \n",
       "4         348  cccctctcacaaccacaaaagctatataacacaacctcttacacca...   \n",
       "\n",
       "                    species        genus         family          order  \\\n",
       "0     Crenicichla saxatilis  Crenicichla      Cichlidae    Perciformes   \n",
       "1     Crenicichla saxatilis  Crenicichla      Cichlidae    Perciformes   \n",
       "2  Crenicichla albopunctata  Crenicichla      Cichlidae    Perciformes   \n",
       "3  Crenicichla albopunctata  Crenicichla      Cichlidae    Perciformes   \n",
       "4     Eigenmannia virescens  Eigenmannia  Sternopygidae  Gymnotiformes   \n",
       "\n",
       "   order_cat  family_cat  genus_cat  species_cat  \n",
       "0         12          16         48           44  \n",
       "1         12          16         48           44  \n",
       "2         12          16         48           41  \n",
       "3         12          16         48           41  \n",
       "4          7          50         60           52  "
      ]
     },
     "execution_count": 146,
     "metadata": {},
     "output_type": "execute_result"
    }
   ],
   "source": [
    "# load the test data\n",
    "test_df = pd.read_csv('./datasets/test.csv')\n",
    "test_df.head()"
   ]
  },
  {
   "cell_type": "code",
   "execution_count": 147,
   "id": "moral-justice",
   "metadata": {
    "ExecuteTime": {
     "end_time": "2023-02-07T18:37:45.030377Z",
     "start_time": "2023-02-07T18:37:45.015386Z"
    }
   },
   "outputs": [
    {
     "data": {
      "text/plain": [
       "(175, 10)"
      ]
     },
     "execution_count": 147,
     "metadata": {},
     "output_type": "execute_result"
    }
   ],
   "source": [
    "test_df.shape"
   ]
  },
  {
   "cell_type": "code",
   "execution_count": 148,
   "id": "dress-poland",
   "metadata": {
    "ExecuteTime": {
     "end_time": "2023-02-07T18:37:50.297416Z",
     "start_time": "2023-02-07T18:37:50.283424Z"
    }
   },
   "outputs": [],
   "source": [
    "# get only the species and labels columns\n",
    "\n",
    "X_train =  train_df.loc[:,['seq']].values\n",
    "y_train =  train_df.loc[:,['species']].values\n",
    "X_test =  test_df.loc[:,['seq']].values\n",
    "y_test =  test_df.loc[:,['species']].values"
   ]
  },
  {
   "cell_type": "code",
   "execution_count": 149,
   "metadata": {},
   "outputs": [
    {
     "name": "stdout",
     "output_type": "stream",
     "text": [
      "Before\n",
      "[['cccccactatagttaaacgtctattatttttatacacctaatattccccggggggagacaagtcgtaa']\n",
      " ['cccccccaaataaacatctattacttttatacacctaaattcccatgggggagacaagtcgtaa']\n",
      " ['ccccccactaaataaacatctattacttttatacacctaaattcccatgggggagacaagtcgtaa']\n",
      " ['ccccccccactaaataaacatctatacttttatacacctaaattcccatggggagacaagtcgtaa']\n",
      " ['cccccacataattaatacatctattacttttatacacctaaattcccaggggggagacaagtcgtaa']]\n",
      "[['cccccccccccccaaataaacatctattacttttatacacctaaattcccatgggggagacaagtcgtaa']\n",
      " ['cccccactatagttaaacgtctatatttttatacacctaatattccccggggggagacaagtcgtaa']\n",
      " ['ccccccccactataataaacatctataattttatacacctaaattcccatgggggagacaagtcgtaa']\n",
      " ['ccccccccactataataaacatctattaattttatacacctaaactcccatgggggagacaagtcgtaa']\n",
      " ['cccctctcacaaccacaaaagctatataacacaacctcttacaccaaggggaggcaagtcgtaa']]\n",
      "[['Crenicichla saxatilis']\n",
      " ['Crenicichla saxatilis']\n",
      " ['Crenicichla saxatilis']\n",
      " ['Crenicichla saxatilis']\n",
      " ['Crenicichla saxatilis']]\n",
      "[['Crenicichla saxatilis']\n",
      " ['Crenicichla saxatilis']\n",
      " ['Crenicichla albopunctata']\n",
      " ['Crenicichla albopunctata']\n",
      " ['Eigenmannia virescens']]\n",
      "\n",
      "After\n",
      "['cccccactatagttaaacgtctattatttttatacacctaatattccccggggggagacaagtcgtaa'\n",
      " 'cccccccaaataaacatctattacttttatacacctaaattcccatgggggagacaagtcgtaa'\n",
      " 'ccccccactaaataaacatctattacttttatacacctaaattcccatgggggagacaagtcgtaa'\n",
      " 'ccccccccactaaataaacatctatacttttatacacctaaattcccatggggagacaagtcgtaa'\n",
      " 'cccccacataattaatacatctattacttttatacacctaaattcccaggggggagacaagtcgtaa']\n",
      "['cccccccccccccaaataaacatctattacttttatacacctaaattcccatgggggagacaagtcgtaa'\n",
      " 'cccccactatagttaaacgtctatatttttatacacctaatattccccggggggagacaagtcgtaa'\n",
      " 'ccccccccactataataaacatctataattttatacacctaaattcccatgggggagacaagtcgtaa'\n",
      " 'ccccccccactataataaacatctattaattttatacacctaaactcccatgggggagacaagtcgtaa'\n",
      " 'cccctctcacaaccacaaaagctatataacacaacctcttacaccaaggggaggcaagtcgtaa']\n",
      "['Crenicichla saxatilis' 'Crenicichla saxatilis' 'Crenicichla saxatilis'\n",
      " 'Crenicichla saxatilis' 'Crenicichla saxatilis']\n",
      "['Crenicichla saxatilis' 'Crenicichla saxatilis'\n",
      " 'Crenicichla albopunctata' 'Crenicichla albopunctata'\n",
      " 'Eigenmannia virescens']\n"
     ]
    }
   ],
   "source": [
    "# remove inner lists\n",
    "\n",
    "print(\"Before\")\n",
    "print(X_train[:5])\n",
    "print(X_test[:5])\n",
    "print(y_train[:5])\n",
    "print(y_test[:5])\n",
    "\n",
    "X_train = X_train.ravel()\n",
    "X_test = X_test.ravel()\n",
    "y_train = y_train.ravel()\n",
    "y_test = y_test.ravel()\n",
    "\n",
    "print(\"\\nAfter\")\n",
    "print(X_train[:5])\n",
    "print(X_test[:5])\n",
    "print(y_train[:5])\n",
    "print(y_test[:5])\n"
   ]
  },
  {
   "cell_type": "code",
   "execution_count": 150,
   "id": "grateful-jamaica",
   "metadata": {
    "ExecuteTime": {
     "end_time": "2023-02-07T18:38:37.027301Z",
     "start_time": "2023-02-07T18:38:37.001315Z"
    }
   },
   "outputs": [],
   "source": [
    "# change labels into indices\n",
    "\n",
    "# uniq_species=np.unique(y_train)\n",
    "# classes= np.unique(y_train, return_inverse=True)[1]\n",
    "le = LabelEncoder()\n",
    "y_train = le.fit_transform(y_train)\n",
    "y_test = le.fit_transform(y_test)"
   ]
  },
  {
   "cell_type": "code",
   "execution_count": 151,
   "metadata": {},
   "outputs": [
    {
     "name": "stdout",
     "output_type": "stream",
     "text": [
      "[44 44 44 44 44]\n",
      "[44 44 41 41 52]\n"
     ]
    }
   ],
   "source": [
    "print(y_train[:5])\n",
    "print(y_test[:5])"
   ]
  },
  {
   "cell_type": "code",
   "execution_count": 152,
   "id": "random-grave",
   "metadata": {
    "ExecuteTime": {
     "end_time": "2023-02-07T18:38:45.375732Z",
     "start_time": "2023-02-07T18:38:45.354734Z"
    }
   },
   "outputs": [],
   "source": [
    "def get_all_kmers(k):\n",
    "    \"\"\"\n",
    "    generates all possible combinations of the letters a, g, t, and c of length k\n",
    "    Examples:\n",
    "        input: get_all_kmers(1)\n",
    "        output: ['a', 'g', 't', 'c'] \n",
    "        input: get_all_kmers(2)\n",
    "        output: ['aa', 'ag', 'at', 'ac', 'ga', 'gg', ... ]\n",
    "    \"\"\"\n",
    "    all_kmers=[]\n",
    "    for i in product('agtc', repeat = k):\n",
    "        all_kmers.append(''.join(i))\n",
    "    return all_kmers"
   ]
  },
  {
   "cell_type": "code",
   "execution_count": 153,
   "id": "invalid-iceland",
   "metadata": {
    "ExecuteTime": {
     "end_time": "2023-02-07T18:38:58.623906Z",
     "start_time": "2023-02-07T18:38:58.607903Z"
    }
   },
   "outputs": [],
   "source": [
    "def list_kmers(seq, k):\n",
    "    \"\"\"\n",
    "    generates all kmers for the sequence (cap at 200 length sequence)\n",
    "    Example\n",
    "        input: list_kmers('agtcagtc', 2)\n",
    "        output: ['ag', 'gt', 'tc', 'ca', 'ag', 'gt', 'tc']\n",
    "    \"\"\"\n",
    "    kmers = []\n",
    "    # Calculate how many kmers of length k there are\n",
    "    if len(seq)<200:\n",
    "        num_kmers=len(seq)-k+1\n",
    "    else:\n",
    "        #only for the first 200 letters of the sequence\n",
    "        num_kmers = len(seq[:200]) - k + 1 \n",
    "    # Loop over the kmer start positions\n",
    "    for i in range(num_kmers):\n",
    "        # Slice the string to get the kmer\n",
    "        kmer = seq[i:i+k]\n",
    "        kmers.append(kmer)\n",
    "    return kmers"
   ]
  },
  {
   "cell_type": "code",
   "execution_count": 154,
   "id": "essential-extra",
   "metadata": {
    "ExecuteTime": {
     "end_time": "2023-02-07T18:40:28.793000Z",
     "start_time": "2023-02-07T18:40:28.774009Z"
    }
   },
   "outputs": [],
   "source": [
    "def create_feature_table(sequences,k):\n",
    "    \"\"\"\n",
    "    creates a 2D array (or feature table) where each row corresponds to a sequence\n",
    "    from the input list sequences, and each column corresponds to a possible k-mer\n",
    "    of length k. The value at a specific row and column is the count of the\n",
    "    corresponding k-mer in the corresponding sequence.\n",
    "    \"\"\"\n",
    "    feature_table=[]\n",
    "    for seq in sequences:\n",
    "        cv = CountVectorizer(vocabulary=(get_all_kmers(k))) #lists counts of all words\n",
    "        #representing sequences as sentences with words that are kmers i.e all kmers separated by space\n",
    "        features=np.asarray(cv.fit_transform([(\" \".join(list_kmers(seq,k)))]).toarray())  \n",
    "        features=features.flatten().tolist()\n",
    "        feature_table.append(features)\n",
    "    return np.asarray(feature_table)"
   ]
  },
  {
   "cell_type": "code",
   "execution_count": 155,
   "id": "about-allah",
   "metadata": {
    "ExecuteTime": {
     "end_time": "2023-02-07T18:40:32.038660Z",
     "start_time": "2023-02-07T18:40:30.526513Z"
    }
   },
   "outputs": [
    {
     "name": "stdout",
     "output_type": "stream",
     "text": [
      "(936, 64)\n"
     ]
    },
    {
     "data": {
      "text/plain": [
       "array([[1, 1, 1, 1, 1, 0, 2, 0, 3, 0, 3, 0, 2, 1, 1, 1, 0, 1, 0, 1, 1, 4,\n",
       "        0, 0, 1, 0, 1, 2, 0, 0, 0, 0, 3, 1, 5, 1, 0, 0, 0, 0, 3, 0, 3, 1,\n",
       "        0, 1, 1, 1, 1, 0, 0, 2, 0, 1, 2, 0, 3, 0, 0, 0, 1, 1, 1, 5],\n",
       "       [3, 1, 2, 1, 1, 0, 1, 0, 2, 1, 2, 1, 3, 0, 1, 1, 0, 1, 0, 1, 1, 3,\n",
       "        0, 0, 1, 0, 0, 1, 0, 0, 0, 0, 3, 0, 2, 2, 0, 1, 0, 0, 2, 0, 2, 1,\n",
       "        0, 1, 1, 1, 2, 0, 2, 1, 0, 0, 1, 0, 2, 0, 1, 0, 2, 0, 1, 6],\n",
       "       [3, 1, 2, 1, 1, 0, 1, 0, 2, 1, 2, 1, 3, 0, 2, 1, 0, 1, 0, 1, 1, 3,\n",
       "        0, 0, 1, 0, 0, 1, 0, 0, 0, 0, 4, 0, 2, 2, 0, 1, 0, 0, 2, 0, 2, 1,\n",
       "        0, 1, 1, 1, 1, 0, 2, 2, 0, 0, 1, 0, 3, 0, 1, 0, 2, 0, 1, 5],\n",
       "       [3, 1, 2, 1, 1, 0, 1, 0, 3, 1, 1, 1, 3, 0, 2, 1, 0, 1, 0, 1, 1, 2,\n",
       "        0, 0, 1, 0, 0, 1, 0, 0, 0, 0, 4, 0, 2, 2, 0, 1, 0, 0, 1, 0, 2, 1,\n",
       "        0, 1, 1, 1, 1, 0, 2, 2, 0, 0, 1, 0, 3, 0, 1, 0, 2, 0, 1, 7],\n",
       "       [1, 1, 3, 0, 1, 1, 1, 0, 3, 0, 3, 1, 4, 0, 1, 1, 0, 1, 0, 1, 1, 4,\n",
       "        0, 0, 1, 0, 0, 1, 0, 0, 0, 0, 4, 0, 2, 3, 0, 0, 0, 0, 3, 0, 2, 1,\n",
       "        0, 1, 1, 1, 1, 1, 2, 2, 0, 0, 1, 0, 2, 0, 1, 0, 2, 0, 1, 4]])"
      ]
     },
     "execution_count": 155,
     "metadata": {},
     "output_type": "execute_result"
    }
   ],
   "source": [
    "# 3mer feature table\n",
    "\n",
    "ft_3=create_feature_table(X_train, 3)\n",
    "print(ft_3.shape) # (num_sequences, num_possible_kmers)\n",
    "ft_3[:5]"
   ]
  },
  {
   "cell_type": "code",
   "execution_count": 156,
   "id": "funky-kentucky",
   "metadata": {
    "ExecuteTime": {
     "end_time": "2022-10-27T18:56:49.862027Z",
     "start_time": "2022-10-27T18:56:46.429745Z"
    }
   },
   "outputs": [
    {
     "name": "stdout",
     "output_type": "stream",
     "text": [
      "(936, 1024)\n"
     ]
    },
    {
     "data": {
      "text/plain": [
       "array([[0, 0, 0, 0, 0, 0, 0, 0, 0, 0, 0, 0, 0, 1, 0, 0, 0, 0, 0, 0, 0, 0,\n",
       "        0, 0, 0, 0, 0, 1, 0, 0, 0, 0, 0, 0, 1, 0, 0, 0, 0, 0, 0, 0, 0, 0,\n",
       "        0, 0, 0, 0, 0, 0, 0, 0, 0, 0, 1, 0, 0, 0, 0, 0, 0, 0, 0, 0, 0, 0,\n",
       "        0, 0, 0, 0, 0, 0, 0, 0, 0, 0, 1, 0, 0, 0, 0, 0, 0, 0, 0, 0, 0, 0,\n",
       "        0, 0, 0, 0, 0, 0, 0, 0, 0, 0, 0, 0, 0, 0, 0, 0, 1, 0, 0, 0, 0, 1,\n",
       "        0, 0, 0, 0, 0, 0, 0, 0, 0, 0, 0, 0, 0, 0, 0, 0, 0, 0, 0, 0, 0, 0,\n",
       "        0, 0, 1, 0, 0, 0, 1, 0, 1, 0, 0, 0, 0, 0, 0, 0, 0, 0, 0, 0, 0, 0,\n",
       "        0, 0, 0, 0, 0, 0, 0, 0, 1, 0, 0, 0, 0, 0, 0, 0, 1, 0, 0, 0, 0, 1,\n",
       "        0, 0, 0, 0, 0, 0, 0, 0, 0, 0, 0, 0, 0, 0, 0, 0, 0, 1, 0, 0, 0, 0,\n",
       "        0, 0, 0, 0, 0, 0, 0, 0, 0, 1, 0, 0, 0, 0, 0, 0, 0, 0, 0, 0, 0, 1,\n",
       "        0, 0, 0, 0, 0, 0, 1, 0, 0, 0, 0, 0, 0, 0, 0, 0, 0, 0, 0, 0, 0, 0,\n",
       "        0, 0, 0, 0, 0, 0, 1, 0, 0, 0, 0, 0, 0, 0, 0, 0, 0, 0, 0, 0, 0, 0,\n",
       "        0, 0, 0, 0, 0, 0, 0, 0, 0, 0, 0, 1, 0, 0, 0, 0, 0, 0, 0, 0, 0, 0,\n",
       "        0, 0, 0, 0, 0, 0, 0, 0, 0, 0, 0, 0, 0, 0, 0, 0, 0, 0, 1, 0, 0, 0,\n",
       "        0, 0, 0, 0, 0, 0, 0, 0, 0, 0, 0, 0, 0, 0, 0, 0, 1, 0, 0, 0, 0, 0,\n",
       "        0, 0, 0, 0, 0, 0, 0, 1, 0, 0, 1, 2, 0, 0, 0, 0, 0, 0, 0, 0, 0, 0,\n",
       "        0, 0, 0, 0, 0, 0, 0, 0, 0, 0, 0, 0, 0, 0, 0, 0, 0, 0, 0, 0, 0, 0,\n",
       "        0, 0, 0, 0, 0, 0, 0, 0, 0, 0, 0, 0, 0, 0, 0, 0, 0, 0, 0, 0, 0, 0,\n",
       "        0, 0, 0, 0, 0, 0, 0, 0, 0, 0, 0, 0, 0, 0, 0, 0, 0, 0, 0, 0, 1, 0,\n",
       "        0, 0, 0, 0, 0, 0, 0, 0, 0, 0, 0, 0, 0, 0, 0, 0, 0, 0, 0, 0, 1, 0,\n",
       "        1, 0, 0, 0, 0, 0, 0, 0, 0, 0, 0, 0, 0, 0, 0, 0, 0, 0, 0, 0, 0, 0,\n",
       "        0, 0, 0, 0, 0, 0, 0, 0, 0, 0, 0, 0, 0, 0, 0, 0, 0, 0, 0, 0, 0, 0,\n",
       "        0, 0, 0, 0, 0, 0, 0, 0, 0, 0, 0, 0, 0, 0, 0, 0, 0, 0, 0, 0, 0, 0,\n",
       "        0, 0, 0, 0, 0, 0, 0, 0, 0, 1, 0, 0, 0, 0, 1, 0, 0, 0, 0, 0, 0, 0,\n",
       "        0, 0, 0, 0, 0, 0, 0, 0, 0, 0, 1, 0, 0, 0, 0, 0, 0, 1, 0, 1, 0, 0,\n",
       "        0, 0, 1, 0, 1, 1, 0, 0, 0, 0, 0, 0, 0, 1, 0, 0, 0, 0, 0, 0, 0, 0,\n",
       "        0, 0, 0, 0, 0, 0, 0, 0, 0, 0, 0, 0, 0, 0, 0, 0, 0, 0, 0, 0, 0, 0,\n",
       "        0, 0, 0, 0, 0, 0, 0, 0, 0, 0, 0, 0, 0, 0, 0, 0, 0, 0, 0, 0, 0, 0,\n",
       "        0, 0, 0, 0, 0, 0, 0, 0, 0, 0, 0, 0, 0, 0, 0, 0, 0, 0, 0, 0, 0, 0,\n",
       "        0, 0, 1, 0, 0, 0, 0, 0, 0, 0, 1, 0, 1, 0, 0, 0, 0, 0, 0, 0, 0, 0,\n",
       "        0, 0, 0, 0, 0, 0, 0, 0, 0, 0, 0, 0, 0, 0, 1, 0, 0, 0, 0, 0, 1, 0,\n",
       "        1, 0, 0, 0, 0, 0, 0, 0, 0, 0, 0, 0, 0, 0, 0, 0, 0, 0, 0, 0, 0, 1,\n",
       "        0, 0, 0, 0, 0, 0, 0, 0, 0, 0, 0, 0, 0, 0, 0, 0, 0, 0, 0, 0, 0, 0,\n",
       "        0, 0, 1, 0, 0, 0, 0, 0, 0, 0, 0, 0, 1, 0, 0, 0, 0, 0, 0, 0, 0, 0,\n",
       "        0, 0, 0, 0, 0, 0, 0, 0, 0, 0, 0, 0, 0, 0, 0, 0, 0, 0, 0, 1, 0, 0,\n",
       "        0, 0, 0, 0, 1, 0, 0, 0, 0, 0, 0, 0, 0, 0, 0, 0, 0, 0, 0, 0, 0, 0,\n",
       "        0, 0, 0, 0, 0, 0, 0, 0, 0, 0, 0, 0, 0, 0, 0, 0, 0, 0, 0, 0, 0, 0,\n",
       "        0, 0, 0, 0, 0, 0, 0, 0, 0, 0, 1, 0, 0, 0, 0, 0, 1, 0, 0, 0, 0, 0,\n",
       "        0, 0, 0, 0, 0, 0, 0, 0, 0, 0, 0, 0, 0, 0, 0, 0, 0, 1, 0, 0, 0, 0,\n",
       "        0, 0, 0, 0, 0, 0, 1, 0, 0, 0, 0, 0, 0, 0, 0, 0, 0, 0, 0, 0, 1, 0,\n",
       "        0, 0, 0, 0, 0, 0, 0, 0, 0, 0, 0, 0, 0, 0, 0, 0, 0, 0, 1, 0, 0, 0,\n",
       "        0, 0, 1, 0, 1, 0, 0, 0, 0, 0, 0, 0, 0, 0, 0, 0, 0, 0, 0, 0, 0, 0,\n",
       "        0, 0, 0, 0, 0, 0, 0, 0, 0, 0, 0, 0, 0, 0, 0, 0, 0, 0, 0, 0, 0, 0,\n",
       "        0, 0, 0, 0, 0, 0, 0, 0, 0, 0, 0, 0, 0, 0, 0, 0, 0, 0, 0, 0, 0, 0,\n",
       "        0, 0, 0, 0, 0, 0, 1, 0, 0, 0, 0, 0, 0, 1, 0, 0, 0, 0, 0, 0, 0, 0,\n",
       "        0, 0, 1, 0, 0, 0, 0, 0, 0, 0, 0, 0, 0, 0, 0, 0, 0, 0, 0, 0, 0, 1,\n",
       "        0, 1, 0, 0, 0, 0, 0, 0, 1, 1, 0, 1],\n",
       "       [0, 0, 0, 0, 0, 0, 0, 0, 1, 0, 1, 0, 1, 0, 0, 0, 0, 0, 0, 0, 0, 0,\n",
       "        0, 0, 0, 0, 0, 1, 0, 0, 0, 0, 1, 0, 0, 0, 0, 0, 0, 0, 0, 0, 0, 1,\n",
       "        0, 0, 0, 0, 0, 0, 1, 0, 0, 0, 0, 0, 0, 0, 0, 0, 0, 0, 0, 0, 0, 0,\n",
       "        0, 0, 0, 0, 0, 0, 0, 0, 0, 0, 1, 0, 0, 0, 0, 0, 0, 0, 0, 0, 0, 0,\n",
       "        0, 0, 0, 0, 0, 0, 0, 0, 0, 0, 0, 0, 0, 0, 0, 0, 0, 0, 0, 0, 0, 1,\n",
       "        0, 0, 0, 0, 0, 0, 0, 0, 0, 0, 0, 0, 0, 0, 0, 0, 0, 0, 1, 0, 0, 0,\n",
       "        0, 0, 0, 0, 0, 0, 0, 0, 1, 0, 0, 0, 0, 0, 0, 0, 0, 1, 0, 0, 0, 0,\n",
       "        0, 0, 0, 0, 0, 0, 0, 0, 0, 1, 0, 0, 0, 0, 0, 0, 0, 0, 0, 0, 0, 1,\n",
       "        0, 0, 0, 0, 0, 0, 0, 0, 1, 0, 0, 0, 0, 0, 0, 0, 0, 1, 0, 0, 0, 0,\n",
       "        0, 0, 0, 0, 0, 1, 0, 0, 0, 1, 0, 0, 0, 0, 0, 0, 0, 0, 0, 0, 0, 0,\n",
       "        0, 0, 0, 0, 0, 0, 0, 0, 0, 0, 0, 0, 0, 0, 1, 0, 0, 0, 0, 0, 0, 0,\n",
       "        0, 0, 0, 0, 0, 0, 1, 0, 0, 0, 0, 0, 0, 0, 0, 0, 0, 0, 0, 0, 0, 0,\n",
       "        0, 0, 0, 0, 0, 0, 0, 0, 0, 0, 0, 1, 0, 0, 0, 0, 0, 0, 0, 0, 0, 0,\n",
       "        0, 0, 0, 0, 0, 0, 0, 0, 0, 0, 0, 0, 0, 0, 0, 0, 0, 0, 1, 0, 0, 0,\n",
       "        0, 0, 0, 0, 0, 0, 0, 0, 0, 0, 0, 0, 0, 0, 0, 0, 1, 0, 0, 0, 0, 0,\n",
       "        0, 0, 0, 0, 0, 0, 0, 1, 0, 0, 1, 1, 0, 0, 0, 0, 0, 0, 0, 0, 0, 0,\n",
       "        0, 0, 0, 0, 0, 0, 0, 0, 0, 0, 0, 0, 0, 0, 0, 0, 0, 0, 0, 0, 0, 0,\n",
       "        0, 0, 0, 0, 0, 0, 0, 0, 0, 0, 0, 0, 0, 0, 0, 0, 0, 0, 0, 0, 0, 0,\n",
       "        0, 0, 0, 0, 0, 0, 0, 0, 0, 0, 0, 0, 0, 0, 0, 0, 0, 0, 0, 0, 0, 0,\n",
       "        0, 0, 0, 0, 0, 0, 0, 0, 0, 0, 0, 0, 0, 0, 0, 0, 0, 0, 0, 0, 1, 0,\n",
       "        0, 0, 0, 0, 0, 0, 0, 0, 0, 0, 0, 0, 0, 0, 0, 0, 0, 0, 0, 0, 0, 0,\n",
       "        0, 0, 0, 0, 0, 0, 0, 0, 0, 0, 0, 0, 0, 0, 0, 0, 0, 0, 0, 0, 0, 0,\n",
       "        0, 0, 0, 0, 0, 0, 0, 0, 0, 0, 0, 0, 0, 0, 0, 0, 0, 0, 0, 0, 0, 0,\n",
       "        0, 0, 0, 0, 0, 0, 0, 0, 1, 1, 0, 0, 0, 0, 0, 0, 0, 0, 0, 0, 0, 0,\n",
       "        0, 0, 0, 0, 0, 0, 0, 0, 0, 0, 0, 0, 0, 0, 0, 0, 0, 0, 0, 1, 0, 0,\n",
       "        0, 0, 1, 0, 0, 0, 0, 0, 0, 0, 0, 0, 0, 1, 0, 0, 0, 0, 0, 0, 1, 0,\n",
       "        0, 0, 0, 0, 0, 0, 0, 0, 0, 0, 0, 0, 0, 0, 0, 0, 0, 0, 0, 0, 0, 0,\n",
       "        0, 0, 0, 1, 0, 0, 0, 0, 0, 0, 0, 0, 0, 0, 0, 0, 0, 0, 0, 0, 0, 0,\n",
       "        0, 0, 0, 0, 0, 0, 0, 0, 0, 0, 0, 0, 0, 0, 0, 0, 0, 0, 0, 0, 0, 0,\n",
       "        0, 0, 0, 0, 0, 0, 0, 0, 0, 0, 1, 0, 0, 0, 0, 0, 1, 0, 0, 0, 0, 0,\n",
       "        0, 0, 0, 0, 0, 0, 0, 0, 0, 0, 0, 0, 0, 0, 1, 0, 0, 0, 0, 0, 1, 0,\n",
       "        0, 0, 0, 0, 0, 0, 0, 0, 0, 0, 0, 0, 0, 0, 0, 0, 0, 0, 0, 0, 0, 1,\n",
       "        0, 0, 0, 0, 0, 0, 0, 0, 0, 0, 0, 0, 0, 0, 0, 0, 0, 0, 0, 0, 0, 0,\n",
       "        0, 0, 1, 0, 0, 0, 0, 0, 0, 0, 0, 0, 1, 0, 0, 0, 0, 0, 0, 0, 0, 0,\n",
       "        0, 0, 0, 0, 0, 0, 0, 0, 0, 0, 0, 0, 0, 0, 0, 0, 1, 0, 0, 0, 0, 0,\n",
       "        1, 0, 0, 0, 1, 0, 0, 0, 0, 0, 0, 0, 0, 0, 0, 0, 0, 0, 0, 0, 0, 0,\n",
       "        0, 0, 0, 0, 0, 0, 0, 0, 0, 0, 0, 0, 0, 1, 0, 0, 0, 0, 0, 0, 0, 0,\n",
       "        1, 0, 0, 0, 0, 0, 0, 0, 0, 0, 0, 0, 0, 0, 0, 0, 1, 0, 0, 0, 0, 0,\n",
       "        0, 0, 0, 0, 0, 0, 0, 0, 0, 0, 0, 0, 0, 0, 0, 0, 0, 0, 0, 0, 0, 0,\n",
       "        0, 0, 0, 0, 0, 0, 1, 0, 0, 0, 0, 0, 0, 0, 0, 0, 0, 0, 0, 0, 0, 0,\n",
       "        0, 0, 0, 0, 0, 0, 0, 0, 0, 0, 0, 0, 0, 0, 0, 0, 1, 0, 0, 0, 0, 0,\n",
       "        0, 0, 0, 0, 1, 0, 0, 0, 0, 0, 0, 0, 0, 0, 0, 0, 0, 0, 0, 0, 0, 0,\n",
       "        0, 0, 0, 0, 0, 0, 0, 0, 0, 0, 0, 0, 0, 0, 1, 0, 0, 0, 0, 0, 0, 0,\n",
       "        0, 0, 0, 0, 0, 0, 0, 0, 0, 0, 0, 0, 0, 0, 1, 0, 0, 0, 0, 0, 0, 0,\n",
       "        0, 1, 0, 0, 0, 0, 0, 0, 0, 0, 0, 0, 0, 0, 0, 0, 0, 0, 0, 0, 0, 0,\n",
       "        0, 0, 1, 0, 0, 0, 0, 0, 0, 0, 0, 0, 0, 0, 0, 0, 0, 0, 1, 0, 1, 0,\n",
       "        0, 0, 0, 0, 0, 0, 0, 0, 1, 0, 0, 3]])"
      ]
     },
     "execution_count": 156,
     "metadata": {},
     "output_type": "execute_result"
    }
   ],
   "source": [
    "# 5mer feature table\n",
    "\n",
    "ft_5=create_feature_table(X_train, 5)\n",
    "print(ft_5.shape)\n",
    "ft_5[:2]"
   ]
  },
  {
   "cell_type": "code",
   "execution_count": 134,
   "id": "foster-murder",
   "metadata": {
    "ExecuteTime": {
     "end_time": "2022-10-27T19:02:01.370742Z",
     "start_time": "2022-10-27T18:57:35.356446Z"
    }
   },
   "outputs": [
    {
     "data": {
      "text/plain": [
       "65536"
      ]
     },
     "execution_count": 134,
     "metadata": {},
     "output_type": "execute_result"
    }
   ],
   "source": [
    "# 8mer feature table\n",
    "\n",
    "ft_8=create_feature_table(X_train, 8)\n",
    "len(ft_8[0])\n",
    "# takes ~1 min. 65536"
   ]
  },
  {
   "cell_type": "code",
   "execution_count": null,
   "id": "conditional-meeting",
   "metadata": {
    "ExecuteTime": {
     "end_time": "2023-02-07T19:41:07.801046Z",
     "start_time": "2023-02-07T18:42:11.325083Z"
    }
   },
   "outputs": [],
   "source": [
    "# 10mer feature table\n",
    "\n",
    "ft_10=create_feature_table(X_train, 10)\n",
    "len(ft_10[0])\n",
    "# takes ~17 mins. 1048576"
   ]
  },
  {
   "cell_type": "code",
   "execution_count": null,
   "id": "flexible-premiere",
   "metadata": {
    "ExecuteTime": {
     "end_time": "2022-10-27T19:07:12.557738Z",
     "start_time": "2022-10-27T19:07:12.545744Z"
    }
   },
   "outputs": [
    {
     "name": "stdout",
     "output_type": "stream",
     "text": [
      "Ft_3: 936\n",
      "Ft_5: 936\n",
      "Ft_8: 936\n",
      "Ft_10: 936\n"
     ]
    }
   ],
   "source": [
    "np.save('./datasets/ft_3.npy', ft_3)\n",
    "np.save('./datasets/ft_5.npy', ft_5)\n",
    "np.save('./datasets/ft_8.npy', ft_8)\n",
    "np.save('./datasets/ft_10.npy', ft_10)\n",
    "\n",
    "print(f\"Ft_3: {ft_3.shape}\")\n",
    "print(f\"Ft_5: {ft_5.shape}\")\n",
    "print(f\"Ft_8: {ft_8.shape}\")\n",
    "print(f\"Ft_10: {ft_10.shape}\")"
   ]
  },
  {
   "cell_type": "markdown",
   "metadata": {},
   "source": [
    "## Resume here if you already created the train & test kmer data"
   ]
  },
  {
   "cell_type": "code",
   "execution_count": 136,
   "metadata": {},
   "outputs": [],
   "source": [
    "import sys\n",
    "import numpy as np\n",
    "import pandas as pd\n",
    "from itertools import product\n",
    "from sklearn.feature_extraction.text import CountVectorizer\n",
    "from sklearn.naive_bayes import MultinomialNB\n",
    "from joblib import dump, load"
   ]
  },
  {
   "cell_type": "code",
   "execution_count": 40,
   "metadata": {},
   "outputs": [
    {
     "name": "stdout",
     "output_type": "stream",
     "text": [
      "Ft_3: (936, 64)\n",
      "Ft_5: (936, 1024)\n",
      "Ft_8: (936, 65536)\n",
      "Ft_10: (936, 1048576)\n",
      "X_train: (936,)\n",
      "y_train: (936, 1)\n",
      "X_test: (175, 1)\n",
      "y_test: (175, 1)\n"
     ]
    }
   ],
   "source": [
    "# takes ~ 45 seconds\n",
    "ft_3 = np.load('./datasets/ft_3.npy')\n",
    "ft_5 = np.load('./datasets/ft_5.npy')\n",
    "ft_8 = np.load('./datasets/ft_8.npy')\n",
    "ft_10 = np.load('./datasets/ft_10.npy')\n",
    "print(f\"Ft_3: {ft_3.shape}\")\n",
    "print(f\"Ft_5: {ft_5.shape}\")\n",
    "print(f\"Ft_8: {ft_8.shape}\")\n",
    "print(f\"Ft_10: {ft_10.shape}\")\n",
    "print(f\"X_train: {X_train.shape}\")\n",
    "print(f\"y_train: {y_train.shape}\")\n",
    "print(f\"X_test: {X_test.shape}\")\n",
    "print(f\"y_test: {y_test.shape}\")"
   ]
  },
  {
   "cell_type": "code",
   "execution_count": 157,
   "metadata": {},
   "outputs": [
    {
     "data": {
      "text/plain": [
       "array([[1, 1, 1, 1, 1, 0, 2, 0, 3, 0, 3, 0, 2, 1, 1, 1, 0, 1, 0, 1, 1, 4,\n",
       "        0, 0, 1, 0, 1, 2, 0, 0, 0, 0, 3, 1, 5, 1, 0, 0, 0, 0, 3, 0, 3, 1,\n",
       "        0, 1, 1, 1, 1, 0, 0, 2, 0, 1, 2, 0, 3, 0, 0, 0, 1, 1, 1, 5],\n",
       "       [3, 1, 2, 1, 1, 0, 1, 0, 2, 1, 2, 1, 3, 0, 1, 1, 0, 1, 0, 1, 1, 3,\n",
       "        0, 0, 1, 0, 0, 1, 0, 0, 0, 0, 3, 0, 2, 2, 0, 1, 0, 0, 2, 0, 2, 1,\n",
       "        0, 1, 1, 1, 2, 0, 2, 1, 0, 0, 1, 0, 2, 0, 1, 0, 2, 0, 1, 6],\n",
       "       [3, 1, 2, 1, 1, 0, 1, 0, 2, 1, 2, 1, 3, 0, 2, 1, 0, 1, 0, 1, 1, 3,\n",
       "        0, 0, 1, 0, 0, 1, 0, 0, 0, 0, 4, 0, 2, 2, 0, 1, 0, 0, 2, 0, 2, 1,\n",
       "        0, 1, 1, 1, 1, 0, 2, 2, 0, 0, 1, 0, 3, 0, 1, 0, 2, 0, 1, 5]])"
      ]
     },
     "execution_count": 157,
     "metadata": {},
     "output_type": "execute_result"
    }
   ],
   "source": [
    "ft_3[:3]"
   ]
  },
  {
   "cell_type": "code",
   "execution_count": 158,
   "metadata": {},
   "outputs": [
    {
     "data": {
      "text/plain": [
       "array([44, 44, 44, 44, 44, 44, 41, 41, 41, 41])"
      ]
     },
     "execution_count": 158,
     "metadata": {},
     "output_type": "execute_result"
    }
   ],
   "source": [
    "y_train[:10]"
   ]
  },
  {
   "cell_type": "code",
   "execution_count": 159,
   "id": "geographic-detective",
   "metadata": {
    "ExecuteTime": {
     "end_time": "2023-02-07T21:43:33.527531Z",
     "start_time": "2023-02-07T19:47:13.476298Z"
    }
   },
   "outputs": [
    {
     "data": {
      "text/plain": [
       "['nb3.joblib']"
      ]
     },
     "execution_count": 159,
     "metadata": {},
     "output_type": "execute_result"
    }
   ],
   "source": [
    "# multinomial naive bayes\n",
    "NB_3 = MultinomialNB()\n",
    "NB_3.fit(ft_3, y_train)\n",
    "dump(NB_3, './datasets/nb3.joblib')"
   ]
  },
  {
   "cell_type": "code",
   "execution_count": 160,
   "metadata": {},
   "outputs": [],
   "source": [
    "NB_3 = load('./datasets/nb3.joblib')"
   ]
  },
  {
   "cell_type": "code",
   "execution_count": 161,
   "id": "relevant-recording",
   "metadata": {
    "ExecuteTime": {
     "end_time": "2023-02-07T21:59:39.730956Z",
     "start_time": "2023-02-07T21:43:33.563511Z"
    }
   },
   "outputs": [],
   "source": [
    "# predictions with test data\n",
    "\n",
    "ft_test=create_feature_table(X_test,3)\n",
    "predicted=NB_3.predict(ft_test)"
   ]
  },
  {
   "cell_type": "code",
   "execution_count": 162,
   "id": "south-ordinary",
   "metadata": {
    "ExecuteTime": {
     "end_time": "2023-02-07T21:59:48.903433Z",
     "start_time": "2023-02-07T21:59:39.753947Z"
    }
   },
   "outputs": [
    {
     "data": {
      "text/plain": [
       "0.9371428571428572"
      ]
     },
     "execution_count": 162,
     "metadata": {},
     "output_type": "execute_result"
    }
   ],
   "source": [
    "# accuracy with test data\n",
    "# 0.00641025641 is random 1/156\n",
    "\n",
    "NB_3.score(ft_test, y_test)"
   ]
  },
  {
   "cell_type": "code",
   "execution_count": 163,
   "metadata": {},
   "outputs": [
    {
     "data": {
      "text/plain": [
       "array([45, 44, 41, 41, 52])"
      ]
     },
     "execution_count": 163,
     "metadata": {},
     "output_type": "execute_result"
    }
   ],
   "source": [
    "predicted[:5]"
   ]
  },
  {
   "cell_type": "code",
   "execution_count": 164,
   "metadata": {},
   "outputs": [
    {
     "data": {
      "text/plain": [
       "array([44, 44, 41, 41, 52])"
      ]
     },
     "execution_count": 164,
     "metadata": {},
     "output_type": "execute_result"
    }
   ],
   "source": [
    "y_test[:5]"
   ]
  },
  {
   "cell_type": "code",
   "execution_count": 165,
   "id": "included-processor",
   "metadata": {
    "ExecuteTime": {
     "end_time": "2022-10-27T19:02:01.410720Z",
     "start_time": "2022-10-27T19:02:01.385733Z"
    }
   },
   "outputs": [],
   "source": [
    "#correctly predicted species and number of correct predictions\n",
    "correct_species=[]\n",
    "correct=0\n",
    "for i in range(len(y_test)):\n",
    "    if predicted[i]==y_test[i]:\n",
    "        correct_species.append((y_test[i]))\n",
    "        correct+=1"
   ]
  },
  {
   "cell_type": "code",
   "execution_count": 166,
   "id": "charming-rally",
   "metadata": {
    "ExecuteTime": {
     "end_time": "2022-10-27T19:02:01.437704Z",
     "start_time": "2022-10-27T19:02:01.420713Z"
    }
   },
   "outputs": [
    {
     "data": {
      "text/plain": [
       "164"
      ]
     },
     "execution_count": 166,
     "metadata": {},
     "output_type": "execute_result"
    }
   ],
   "source": [
    "correct"
   ]
  },
  {
   "cell_type": "code",
   "execution_count": 167,
   "id": "pretty-footage",
   "metadata": {
    "ExecuteTime": {
     "end_time": "2022-10-27T19:02:01.466694Z",
     "start_time": "2022-10-27T19:02:01.441702Z"
    }
   },
   "outputs": [
    {
     "data": {
      "text/plain": [
       "147"
      ]
     },
     "execution_count": 167,
     "metadata": {},
     "output_type": "execute_result"
    }
   ],
   "source": [
    "len(np.unique(np.asarray(correct_species)))"
   ]
  },
  {
   "cell_type": "code",
   "execution_count": 168,
   "id": "moral-mystery",
   "metadata": {
    "ExecuteTime": {
     "end_time": "2022-10-27T15:07:09.306892Z",
     "start_time": "2022-10-27T15:07:09.291880Z"
    }
   },
   "outputs": [
    {
     "data": {
      "text/plain": [
       "array([  0,   1,   2,   3,   4,   5,   6,   7,   9,  10,  11,  13,  14,\n",
       "        15,  16,  17,  18,  19,  20,  21,  22,  23,  25,  26,  27,  29,\n",
       "        30,  31,  32,  33,  34,  35,  36,  37,  38,  39,  40,  41,  42,\n",
       "        43,  44,  45,  46,  47,  48,  49,  50,  51,  52,  53,  54,  55,\n",
       "        56,  57,  58,  59,  60,  61,  62,  63,  64,  65,  66,  67,  68,\n",
       "        69,  70,  71,  72,  73,  74,  75,  76,  77,  78,  79,  80,  81,\n",
       "        82,  84,  85,  86,  87,  88,  89,  90,  91,  92,  93,  94,  95,\n",
       "        96,  97,  98,  99, 101, 102, 103, 104, 105, 106, 107, 109, 110,\n",
       "       111, 112, 113, 114, 116, 117, 118, 119, 120, 121, 123, 124, 125,\n",
       "       126, 127, 128, 129, 130, 131, 132, 133, 134, 135, 136, 137, 138,\n",
       "       139, 140, 141, 142, 143, 144, 145, 146, 147, 148, 149, 150, 151,\n",
       "       152, 153, 154, 155])"
      ]
     },
     "execution_count": 168,
     "metadata": {},
     "output_type": "execute_result"
    }
   ],
   "source": [
    "np.unique(np.asarray(correct_species))"
   ]
  },
  {
   "cell_type": "code",
   "execution_count": 170,
   "id": "unnecessary-cement",
   "metadata": {
    "ExecuteTime": {
     "end_time": "2022-10-27T15:05:41.299217Z",
     "start_time": "2022-10-27T15:05:41.267240Z"
    }
   },
   "outputs": [
    {
     "data": {
      "text/plain": [
       "0.9903846153846154"
      ]
     },
     "execution_count": 170,
     "metadata": {},
     "output_type": "execute_result"
    }
   ],
   "source": [
    "# accuracy with train data\n",
    "NB_3.score(ft_3, y_train)"
   ]
  },
  {
   "cell_type": "code",
   "execution_count": null,
   "id": "animal-greek",
   "metadata": {
    "ExecuteTime": {
     "end_time": "2022-10-27T02:59:11.322713Z",
     "start_time": "2022-10-27T02:59:11.302711Z"
    }
   },
   "outputs": [],
   "source": [
    "# def count_kmers(read, k):\n",
    "#     # Start with an empty dictionary\n",
    "#     counts = {}\n",
    "#     # Calculate how many kmers of length k there are\n",
    "#     num_kmers = len(read) - k + 1\n",
    "#     # Loop over the kmer start positions\n",
    "#     for i in range(num_kmers):\n",
    "#         # Slice the string to get the kmer\n",
    "#         kmer = read[i:i+k]\n",
    "#         # Add the kmer to the dictionary if it's not there\n",
    "#         if kmer not in counts:\n",
    "#             counts[kmer] = 0\n",
    "#         # Increment the count for this kmer\n",
    "#         counts[kmer] += 1\n",
    "#     # Return the final counts\n",
    "#     return counts"
   ]
  }
 ],
 "metadata": {
  "kernelspec": {
   "display_name": "Python 3",
   "language": "python",
   "name": "python3"
  },
  "language_info": {
   "codemirror_mode": {
    "name": "ipython",
    "version": 3
   },
   "file_extension": ".py",
   "mimetype": "text/x-python",
   "name": "python",
   "nbconvert_exporter": "python",
   "pygments_lexer": "ipython3",
   "version": "3.10.4"
  }
 },
 "nbformat": 4,
 "nbformat_minor": 5
}
